{
 "cells": [
  {
   "cell_type": "code",
   "execution_count": 1,
   "id": "42b72f15-5511-4373-a0aa-283a90f355ef",
   "metadata": {},
   "outputs": [],
   "source": [
    "from bs4 import BeautifulSoup as bs\n",
    "import requests\n",
    "import pandas as pd\n",
    "from splinter import Browser\n",
    "from webdriver_manager.chrome import ChromeDriverManager\n",
    "import pymongo"
   ]
  },
  {
   "cell_type": "code",
   "execution_count": 2,
   "id": "4cd2f3dc-63e7-4cfb-a3b5-8cb214468acc",
   "metadata": {},
   "outputs": [],
   "source": [
    "url = \"https://redplanetscience.com/\""
   ]
  },
  {
   "cell_type": "code",
   "execution_count": 3,
   "id": "cbceeae3-e5a1-4a58-90cf-22c0e7dd7480",
   "metadata": {},
   "outputs": [
    {
     "name": "stderr",
     "output_type": "stream",
     "text": [
      "\n",
      "\n",
      "====== WebDriver manager ======\n",
      "Could not get version for google-chrome with the command:  powershell \"$ErrorActionPreference='silentlycontinue' ; (Get-Item -Path \"$env:PROGRAMFILES\\Google\\Chrome\\Application\\chrome.exe\").VersionInfo.FileVersion ; if (-not $? -or $? -match $error) { (Get-Item -Path \"$env:PROGRAMFILES(x86)\\Google\\Chrome\\Application\\chrome.exe\").VersionInfo.FileVersion } if (-not $? -or $? -match $error) { (Get-Item -Path \"$env:LOCALAPPDATA\\Google\\Chrome\\Application\\chrome.exe\").VersionInfo.FileVersion } if (-not $? -or $? -match $error) { reg query \"HKCU\\SOFTWARE\\Google\\Chrome\\BLBeacon\" /v version } if (-not $? -or $? -match $error) { reg query \"HKLM\\SOFTWARE\\Wow6432Node\\Microsoft\\Windows\\CurrentVersion\\Uninstall\\Google Chrome\" /v version }\"\n",
      "Current google-chrome version is UNKNOWN\n",
      "Get LATEST chromedriver version for UNKNOWN google-chrome\n",
      "Trying to download new driver from https://chromedriver.storage.googleapis.com/99.0.4844.51/chromedriver_win32.zip\n",
      "Driver has been saved in cache [C:\\Users\\Billy\\.wdm\\drivers\\chromedriver\\win32\\99.0.4844.51]\n"
     ]
    }
   ],
   "source": [
    "executable_path = {'executable_path': ChromeDriverManager().install()}\n",
    "browser = Browser('chrome', **executable_path, headless=False)"
   ]
  },
  {
   "cell_type": "code",
   "execution_count": 4,
   "id": "f98886f6-c5db-494d-b11d-5b901aa83ad4",
   "metadata": {},
   "outputs": [],
   "source": [
    "# NASA Mars News Scrape\n",
    "browser.visit(url)\n",
    "html = browser.html\n",
    "soup = bs(html, 'html.parser')"
   ]
  },
  {
   "cell_type": "code",
   "execution_count": 5,
   "id": "83e67a33-e3d1-47b5-b47b-c0eb1f87f733",
   "metadata": {},
   "outputs": [],
   "source": [
    "latest_article = soup.select_one(\"div.list_text\")"
   ]
  },
  {
   "cell_type": "code",
   "execution_count": 6,
   "id": "61a5966f-113a-4fb5-af04-2fbd6da6aa1d",
   "metadata": {},
   "outputs": [
    {
     "name": "stdout",
     "output_type": "stream",
     "text": [
      "NASA's Treasure Map for Water Ice on Mars\n",
      "A new study identifies frozen water just below the Martian surface, where astronauts could easily dig it up.\n"
     ]
    }
   ],
   "source": [
    "news_title = latest_article.find('div', class_='content_title').text\n",
    "news_desc = latest_article.find('div', class_='article_teaser_body').text\n",
    "print(news_title)\n",
    "print(news_desc)"
   ]
  },
  {
   "cell_type": "code",
   "execution_count": 7,
   "id": "eebcd0c7-0704-44f3-88e5-89786983c164",
   "metadata": {},
   "outputs": [],
   "source": [
    "# Mars Featured Image Scrape\n",
    "mars_images_url = \"https://spaceimages-mars.com/\"\n",
    "browser.visit(mars_images_url)\n",
    "html = browser.html\n",
    "soup = bs(html, 'html.parser')"
   ]
  },
  {
   "cell_type": "code",
   "execution_count": 8,
   "id": "f8001c39-bdb8-4e22-9755-4fe8445f30f3",
   "metadata": {},
   "outputs": [
    {
     "name": "stdout",
     "output_type": "stream",
     "text": [
      "<img class=\"headerimage fade-in\" src=\"image/featured/mars3.jpg\"/>\n",
      "\n"
     ]
    }
   ],
   "source": [
    "results = soup.find('img', class_='headerimage')\n",
    "print(results.prettify())"
   ]
  },
  {
   "cell_type": "code",
   "execution_count": 28,
   "id": "1520993a-df31-4ce3-af6a-2adb660927c0",
   "metadata": {},
   "outputs": [
    {
     "data": {
      "text/plain": [
       "'https://spaceimages-mars.com/image/featured/mars3.jpg'"
      ]
     },
     "execution_count": 28,
     "metadata": {},
     "output_type": "execute_result"
    }
   ],
   "source": [
    "source = results['src']\n",
    "featured_image_url = f'https://spaceimages-mars.com/{source}'\n",
    "featured_image_url"
   ]
  },
  {
   "cell_type": "code",
   "execution_count": 12,
   "id": "b9fc4922-a0f8-4c14-87b7-62edc9071c8f",
   "metadata": {},
   "outputs": [],
   "source": [
    "# Mars Facts Scrape\n",
    "mars_facts_url = \"https://galaxyfacts-mars.com/\""
   ]
  },
  {
   "cell_type": "code",
   "execution_count": 13,
   "id": "27e62737-427f-4464-9e88-e6d8e62037bc",
   "metadata": {},
   "outputs": [
    {
     "data": {
      "text/plain": [
       "[                         0                1                2\n",
       " 0  Mars - Earth Comparison             Mars            Earth\n",
       " 1                Diameter:         6,779 km        12,742 km\n",
       " 2                    Mass:  6.39 × 10^23 kg  5.97 × 10^24 kg\n",
       " 3                   Moons:                2                1\n",
       " 4       Distance from Sun:   227,943,824 km   149,598,262 km\n",
       " 5          Length of Year:   687 Earth days      365.24 days\n",
       " 6             Temperature:     -87 to -5 °C      -88 to 58°C,\n",
       "                       0                              1\n",
       " 0  Equatorial Diameter:                       6,792 km\n",
       " 1       Polar Diameter:                       6,752 km\n",
       " 2                 Mass:  6.39 × 10^23 kg (0.11 Earths)\n",
       " 3                Moons:          2 ( Phobos & Deimos )\n",
       " 4       Orbit Distance:       227,943,824 km (1.38 AU)\n",
       " 5         Orbit Period:           687 days (1.9 years)\n",
       " 6  Surface Temperature:                   -87 to -5 °C\n",
       " 7         First Record:              2nd millennium BC\n",
       " 8          Recorded By:           Egyptian astronomers]"
      ]
     },
     "execution_count": 13,
     "metadata": {},
     "output_type": "execute_result"
    }
   ],
   "source": [
    "tables = pd.read_html(mars_facts_url)\n",
    "tables"
   ]
  },
  {
   "cell_type": "code",
   "execution_count": 22,
   "id": "384abdc6-8dcc-4a67-8d72-b91f79ce58f8",
   "metadata": {},
   "outputs": [
    {
     "data": {
      "text/html": [
       "<div>\n",
       "<style scoped>\n",
       "    .dataframe tbody tr th:only-of-type {\n",
       "        vertical-align: middle;\n",
       "    }\n",
       "\n",
       "    .dataframe tbody tr th {\n",
       "        vertical-align: top;\n",
       "    }\n",
       "\n",
       "    .dataframe thead th {\n",
       "        text-align: right;\n",
       "    }\n",
       "</style>\n",
       "<table border=\"1\" class=\"dataframe\">\n",
       "  <thead>\n",
       "    <tr style=\"text-align: right;\">\n",
       "      <th></th>\n",
       "      <th>Mars - Earth Comparison</th>\n",
       "      <th>Mars</th>\n",
       "      <th>Earth</th>\n",
       "    </tr>\n",
       "  </thead>\n",
       "  <tbody>\n",
       "    <tr>\n",
       "      <th>0</th>\n",
       "      <td>Mars - Earth Comparison</td>\n",
       "      <td>Mars</td>\n",
       "      <td>Earth</td>\n",
       "    </tr>\n",
       "    <tr>\n",
       "      <th>1</th>\n",
       "      <td>Diameter:</td>\n",
       "      <td>6,779 km</td>\n",
       "      <td>12,742 km</td>\n",
       "    </tr>\n",
       "    <tr>\n",
       "      <th>2</th>\n",
       "      <td>Mass:</td>\n",
       "      <td>6.39 × 10^23 kg</td>\n",
       "      <td>5.97 × 10^24 kg</td>\n",
       "    </tr>\n",
       "    <tr>\n",
       "      <th>3</th>\n",
       "      <td>Moons:</td>\n",
       "      <td>2</td>\n",
       "      <td>1</td>\n",
       "    </tr>\n",
       "    <tr>\n",
       "      <th>4</th>\n",
       "      <td>Distance from Sun:</td>\n",
       "      <td>227,943,824 km</td>\n",
       "      <td>149,598,262 km</td>\n",
       "    </tr>\n",
       "    <tr>\n",
       "      <th>5</th>\n",
       "      <td>Length of Year:</td>\n",
       "      <td>687 Earth days</td>\n",
       "      <td>365.24 days</td>\n",
       "    </tr>\n",
       "    <tr>\n",
       "      <th>6</th>\n",
       "      <td>Temperature:</td>\n",
       "      <td>-87 to -5 °C</td>\n",
       "      <td>-88 to 58°C</td>\n",
       "    </tr>\n",
       "  </tbody>\n",
       "</table>\n",
       "</div>"
      ],
      "text/plain": [
       "   Mars - Earth Comparison             Mars            Earth\n",
       "0  Mars - Earth Comparison             Mars            Earth\n",
       "1                Diameter:         6,779 km        12,742 km\n",
       "2                    Mass:  6.39 × 10^23 kg  5.97 × 10^24 kg\n",
       "3                   Moons:                2                1\n",
       "4       Distance from Sun:   227,943,824 km   149,598,262 km\n",
       "5          Length of Year:   687 Earth days      365.24 days\n",
       "6             Temperature:     -87 to -5 °C      -88 to 58°C"
      ]
     },
     "execution_count": 22,
     "metadata": {},
     "output_type": "execute_result"
    }
   ],
   "source": [
    "facts_df = pd.DataFrame(tables[0])\n",
    "facts_df.rename(columns={0: 'Mars - Earth Comparison', \n",
    "                         1: 'Mars', \n",
    "                         2: 'Earth'}, inplace=True)\n",
    "facts_df"
   ]
  },
  {
   "cell_type": "code",
   "execution_count": 23,
   "id": "f1b6813b-3e89-4b45-9954-f2fb4109ef30",
   "metadata": {},
   "outputs": [],
   "source": [
    "facts_df.to_html('mars_facts_table.html')"
   ]
  },
  {
   "cell_type": "code",
   "execution_count": 49,
   "id": "faacad0d-695d-4a5e-b13d-027482acb152",
   "metadata": {},
   "outputs": [],
   "source": [
    "# Mars Hemispheres Scrape\n",
    "browser.visit(\"https://marshemispheres.com/\")\n",
    "html = browser.html\n",
    "soup = bs(html, 'html.parser')\n",
    "products = soup.body.find_all('div', class_='description')"
   ]
  },
  {
   "cell_type": "code",
   "execution_count": 50,
   "id": "80715b32-af82-465e-ae91-35b527608d4f",
   "metadata": {},
   "outputs": [
    {
     "data": {
      "text/plain": [
       "['Cerberus Hemisphere Enhanced',\n",
       " 'Schiaparelli Hemisphere Enhanced',\n",
       " 'Syrtis Major Hemisphere Enhanced',\n",
       " 'Valles Marineris Hemisphere Enhanced']"
      ]
     },
     "execution_count": 50,
     "metadata": {},
     "output_type": "execute_result"
    }
   ],
   "source": [
    "click_links = []\n",
    "products = soup.body.find_all('div', class_='description')\n",
    "for product in products:\n",
    "    link_name = product.h3.text\n",
    "    click_links.append(link_name)\n",
    "click_links"
   ]
  },
  {
   "cell_type": "code",
   "execution_count": 55,
   "id": "077e0fcd-03f4-411d-ba1a-69533da266f6",
   "metadata": {
    "jupyter": {
     "source_hidden": true
    },
    "tags": []
   },
   "outputs": [
    {
     "name": "stdout",
     "output_type": "stream",
     "text": [
      "----------\n",
      "Cerberus Hemisphere\n",
      "https://marshemispheres.com/images/f5e372a36edfa389625da6d0cc25d905_cerberus_enhanced.tif_full.jpg\n",
      "----------\n",
      "Schiaparelli Hemisphere\n",
      "https://marshemispheres.com/images/3778f7b43bbbc89d6e3cfabb3613ba93_schiaparelli_enhanced.tif_full.jpg\n",
      "----------\n",
      "Syrtis Major Hemisphere\n",
      "https://marshemispheres.com/images/555e6403a6ddd7ba16ddb0e471cadcf7_syrtis_major_enhanced.tif_full.jpg\n",
      "----------\n",
      "Valles Marineris Hemisphere\n",
      "https://marshemispheres.com/images/b3c7c6c9138f57b4756be9b9c43e3a48_valles_marineris_enhanced.tif_full.jpg\n"
     ]
    }
   ],
   "source": [
    "hemisphere_image_urls = []\n",
    "\n",
    "for x in range(0, len(click_links)):\n",
    "    browser.links.find_by_partial_text(click_links[x]).click()\n",
    "    \n",
    "    html = browser.html\n",
    "    soup = bs(html, 'html.parser')\n",
    "    \n",
    "    image = soup.find('img', class_='wide-image')['src']\n",
    "    hemisphere = click_links[x][:-9]\n",
    "    \n",
    "    print('----------')\n",
    "    print(f'{hemisphere}')\n",
    "    print(f'https://marshemispheres.com/{image}')\n",
    "    \n",
    "    hemisphere_dict = {}\n",
    "    hemisphere_dict['title'] = hemisphere\n",
    "    hemisphere_dict['img_url'] = f'https://marshemispheres.com/{image}'\n",
    "    hemisphere_image_urls.append(hemisphere_dict)\n",
    "    \n",
    "    browser.visit(\"https://marshemispheres.com/\")"
   ]
  },
  {
   "cell_type": "code",
   "execution_count": 56,
   "id": "8b7fff79-cb7a-45c0-a3b8-fda647e46528",
   "metadata": {},
   "outputs": [
    {
     "data": {
      "text/plain": [
       "[{'title': 'Cerberus Hemisphere',\n",
       "  'img_url': 'https://marshemispheres.com/images/f5e372a36edfa389625da6d0cc25d905_cerberus_enhanced.tif_full.jpg'},\n",
       " {'title': 'Schiaparelli Hemisphere',\n",
       "  'img_url': 'https://marshemispheres.com/images/3778f7b43bbbc89d6e3cfabb3613ba93_schiaparelli_enhanced.tif_full.jpg'},\n",
       " {'title': 'Syrtis Major Hemisphere',\n",
       "  'img_url': 'https://marshemispheres.com/images/555e6403a6ddd7ba16ddb0e471cadcf7_syrtis_major_enhanced.tif_full.jpg'},\n",
       " {'title': 'Valles Marineris Hemisphere',\n",
       "  'img_url': 'https://marshemispheres.com/images/b3c7c6c9138f57b4756be9b9c43e3a48_valles_marineris_enhanced.tif_full.jpg'}]"
      ]
     },
     "execution_count": 56,
     "metadata": {},
     "output_type": "execute_result"
    }
   ],
   "source": [
    "hemisphere_image_urls"
   ]
  },
  {
   "cell_type": "code",
   "execution_count": 57,
   "id": "a8f3d455-8c48-4670-b467-ede43f1a0abd",
   "metadata": {},
   "outputs": [],
   "source": [
    "browser.quit()"
   ]
  },
  {
   "cell_type": "code",
   "execution_count": null,
   "id": "56a65ffc-6153-4cea-894c-915b60547086",
   "metadata": {},
   "outputs": [],
   "source": []
  }
 ],
 "metadata": {
  "kernelspec": {
   "display_name": "Python 3 (ipykernel)",
   "language": "python",
   "name": "python3"
  },
  "language_info": {
   "codemirror_mode": {
    "name": "ipython",
    "version": 3
   },
   "file_extension": ".py",
   "mimetype": "text/x-python",
   "name": "python",
   "nbconvert_exporter": "python",
   "pygments_lexer": "ipython3",
   "version": "3.8.5"
  }
 },
 "nbformat": 4,
 "nbformat_minor": 5
}
